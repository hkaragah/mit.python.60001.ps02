{
 "cells": [
  {
   "cell_type": "markdown",
   "metadata": {},
   "source": [
    "# MIT Python Course 6.0001\n",
    "\n",
    "## Problem Set 2\n",
    "\n",
    "### <font color='blue'>Hangman Game - Part 1: Three Helper Functions</font>\n",
    "1. The computer must select a word at random from the list of available words that was provided in words.txt. Note that words.txt contains words in all lowercase letters.<br>\n",
    "2. The user is given a certain number of guesses at the beginning.<br>\n",
    "3. The game is interactive; the user inputs their guess and the computer either:<br>\n",
    "    a. reveals the letter if it exists in the secret word<br>\n",
    "    b. penalize the user and updates the number of guesses remaining<br>\n",
    "4. The game ends when either the user guesses the secret word, or the user runs out of guesses.<br>"
   ]
  },
  {
   "cell_type": "markdown",
   "metadata": {},
   "source": [
    "***\n",
    "#### 1A) Determine whether the word has been guessed\n",
    "\n",
    "First, implement the function `is_word_guessed` that takes in two parameters a string, `secret_word` , and a list of letters (strings), `letters_guessed`. This function returns a boolean `True` if secret_word has been guessed (i.e., all the letters of\n",
    "`secret_word` are in `letters_guessed` ), and `False` otherwise. This function will be\n",
    "useful in helping you decide when the hangman game has been successfully\n",
    "completed, and becomes an endtest for any iterative loop that checks letters against\n",
    "the secret word.<br>\n",
    "\n",
    "For this function, you may assume that all the letters in `secret_word` and `letters_guessed` are lowercase.<br>\n",
    "\n",
    "**Example Usage:**<br>\n",
    "`>>> secret_word = 'apple'`<br>\n",
    "`>>> letters_guessed = ['e', 'i', 'k', 'p', 'r', 's']`<br>\n",
    "`>>> print(is_word_guessed(secret_word, letters_guessed) )`<br>\n",
    "`False`<br>\n",
    "***"
   ]
  },
  {
   "cell_type": "code",
   "execution_count": 25,
   "metadata": {},
   "outputs": [
    {
     "name": "stdout",
     "output_type": "stream",
     "text": [
      "All letters of 'hello' found.\n"
     ]
    }
   ],
   "source": [
    "def is_word_guessed(secret_word, letters_guessed):\n",
    "    '''\n",
    "    secret_word: string, the word the user is guessing; assumes all letters are\n",
    "      lowercase\n",
    "    letters_guessed: list (of letters), which letters have been guessed so far;\n",
    "      assumes that all letters are lowercase\n",
    "    returns: boolean, True if all the letters of secret_word are in letters_guessed;\n",
    "      False otherwise\n",
    "    '''\n",
    "\n",
    "    \n",
    "    for letter_of_secret in secret_word:\n",
    "        found_common_letter = False\n",
    "        for letter_of_guessed in letters_guessed:\n",
    "            if letter_of_secret == letter_of_guessed:\n",
    "                found_common_letter = True\n",
    "                break\n",
    "        if not(found_common_letter):\n",
    "            return False\n",
    "            break\n",
    "    if found_common_letter:\n",
    "        return True\n",
    "\n",
    "# testing is_word_guessed\n",
    "secret_word = 'hello'\n",
    "letters_guessed = ['o','e','l','h','f']\n",
    "if is_word_guessed(secret_word , letters_guessed):\n",
    "    print('All letters of \\'' + secret_word + '\\' found.')\n",
    "else:\n",
    "    print('All/some letters of \\'' + secret_word + '\\' did not find.')   \n",
    "           \n"
   ]
  },
  {
   "cell_type": "markdown",
   "metadata": {},
   "source": [
    "***\n",
    "#### 1B) Getting the user’s guess\n",
    "\n",
    "Next, implement the function `get_guessed_word` that takes in two parameters a string, `secret_word` , and a list of letters, `letters_guessed` . This function returns a string that is comprised of letters and underscores, based on what letters in `letters_guessed` are in `secret_word` . This shouldn't be too different from `is_word_guessed` !<br>\n",
    "\n",
    "We are going to use an underscore followed by a space (`_ `) to represent unknown letters. We could have chosen other symbols, but the combination of underscore and space is visible and easily discerned. Note that the space is super important, as otherwise it hard to distinguish whether `____` is four elements long or three. This is called usability it's very important, when programming, to consider the usability of your program. If users find your program difficult to understand or operate, they won't use it! We encourage you to think about usability when designing your program.<br>\n",
    "\n",
    "**Example Usage:**<br>\n",
    "`>>> secret_word = 'apple'`<br>\n",
    "`>>> letters_guessed = ['e', 'i', 'k', 'p', 'r', 's']`<br>\n",
    "`>>> print(get_guessed_word(secret_word, letters_guessed) )`<br>\n",
    "`'_ pp_ e'`<br>\n",
    "***"
   ]
  },
  {
   "cell_type": "code",
   "execution_count": 29,
   "metadata": {},
   "outputs": [
    {
     "name": "stdout",
     "output_type": "stream",
     "text": [
      "Guessed so far: _ ello\n",
      "Guessed so far: _ pp_ e\n"
     ]
    }
   ],
   "source": [
    "def get_guessed_word(secret_word, letters_guessed):\n",
    "    '''\n",
    "    secret_word: string, the word the user is guessing\n",
    "    letters_guessed: list (of letters), which letters have been guessed so far\n",
    "    returns: string, comprised of letters, underscores (_), and spaces that represents\n",
    "      which letters in secret_word have been guessed so far.\n",
    "    '''\n",
    "    correctly_guessed = ''\n",
    "    for letter_of_secret in secret_word:\n",
    "        found_common_letter = False\n",
    "        for letter_of_guessed in letters_guessed:\n",
    "            if letter_of_secret == letter_of_guessed:\n",
    "                found_common_letter = True\n",
    "                correctly_guessed += letter_of_guessed\n",
    "                break\n",
    "        if not(found_common_letter):\n",
    "            correctly_guessed += '_ '\n",
    "    return correctly_guessed\n",
    "\n",
    "# testing get_guessed_word\n",
    "secret_word = 'hello'\n",
    "letters_guessed = ['o','e','l','f']\n",
    "print('Guessed so far: ' + get_guessed_word(secret_word , letters_guessed))\n",
    "\n",
    "secret_word = 'apple'\n",
    "letters_guessed = ['e', 'i', 'k', 'p', 'r', 's']\n",
    "print('Guessed so far: ' + get_guessed_word(secret_word , letters_guessed))"
   ]
  },
  {
   "cell_type": "markdown",
   "metadata": {},
   "source": [
    "***\n",
    "#### 1C) Getting all available letters\n",
    "\n",
    "Next, implement the function `get_available_letters` that takes in one parameter a list of letters, `letters_guessed` . This function returns a string that is comprised of lowercase English letters all lowercase English letters that are not in `letters_guessed` .<br>\n",
    "    \n",
    "This function should return the letters in alphabetical order. For this function, you may assume that all the letters in `letters_guessed` are lowercase.<br>\n",
    "\n",
    "**Hint :** You might consider using `string.ascii_lowercase` , which is a string comprised\n",
    "of all lowercase letters:<br>\n",
    "`>>> import string`<br>\n",
    "`>>> print(string.ascii_lowercase)`<br>\n",
    "`abcdefghijklmnopqrstuvwxyz`<br>\n",
    "\n",
    "**Example Usage:**<br>\n",
    "`>>> letters_guessed = ['e', 'i', 'k', 'p', 'r', 's']`<br>\n",
    "`>>> print get_available_letters(letters_guessed)`<br>\n",
    "`abcdfghjlmnoqtuvwxyz`<br>\n",
    "***"
   ]
  },
  {
   "cell_type": "code",
   "execution_count": 38,
   "metadata": {},
   "outputs": [
    {
     "name": "stdout",
     "output_type": "stream",
     "text": [
      "abcdfghjlmnoqtuvwxyz\n"
     ]
    }
   ],
   "source": [
    "import string\n",
    "\n",
    "def get_available_letters(letters_guessed):\n",
    "    '''\n",
    "    letters_guessed: list (of letters), which letters have been guessed so far\n",
    "    returns: string (of letters), comprised of letters that represents which letters have not\n",
    "      yet been guessed.\n",
    "    '''\n",
    "    available_letters = string.ascii_lowercase\n",
    "    for letter in letters_guessed:\n",
    "        available_letters = available_letters.replace(letter,'')\n",
    "    return available_letters\n",
    "\n",
    "# testing get_available_letters\n",
    "letters_guessed = ['e', 'i', 'k', 'p', 'r', 's']\n",
    "print (get_available_letters(letters_guessed))"
   ]
  }
 ],
 "metadata": {
  "kernelspec": {
   "display_name": "Python 3",
   "language": "python",
   "name": "python3"
  },
  "language_info": {
   "codemirror_mode": {
    "name": "ipython",
    "version": 3
   },
   "file_extension": ".py",
   "mimetype": "text/x-python",
   "name": "python",
   "nbconvert_exporter": "python",
   "pygments_lexer": "ipython3",
   "version": "3.7.4"
  }
 },
 "nbformat": 4,
 "nbformat_minor": 2
}
